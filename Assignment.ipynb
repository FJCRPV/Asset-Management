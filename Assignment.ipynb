{
 "cells": [
  {
   "cell_type": "markdown",
   "id": "bbaa81a4",
   "metadata": {
    "id": "bbaa81a4"
   },
   "source": [
    "# Assignment 2021-2022\n",
    "\n",
    "## Francisco Perestrello | 39001"
   ]
  },
  {
   "cell_type": "markdown",
   "id": "ccee45a0",
   "metadata": {
    "id": "ccee45a0"
   },
   "source": [
    "## Question I."
   ]
  },
  {
   "cell_type": "code",
   "execution_count": null,
   "id": "35b3e874",
   "metadata": {
    "colab": {
     "base_uri": "https://localhost:8080/"
    },
    "executionInfo": {
     "elapsed": 21624,
     "status": "ok",
     "timestamp": 1652473467943,
     "user": {
      "displayName": "Francisco Perestrello",
      "userId": "09503119125878656278"
     },
     "user_tz": -60
    },
    "id": "35b3e874",
    "outputId": "abea0e11-9051-4778-d144-5789ee843d2d"
   },
   "outputs": [
    {
     "name": "stdout",
     "output_type": "stream",
     "text": [
      "Mounted at /content/drive\n"
     ]
    }
   ],
   "source": [
    "#1.\n",
    "from google.colab import drive\n",
    "drive.mount('/content/drive')\n",
    "import numpy as np\n",
    "import pandas as pd\n",
    "import scipy.stats\n",
    "from scipy.optimize import minimize"
   ]
  },
  {
   "cell_type": "code",
   "execution_count": 4,
   "id": "IzB2voE6eOKK",
   "metadata": {
    "executionInfo": {
     "elapsed": 632,
     "status": "ok",
     "timestamp": 1652473526967,
     "user": {
      "displayName": "Francisco Perestrello",
      "userId": "09503119125878656278"
     },
     "user_tz": -60
    },
    "id": "IzB2voE6eOKK"
   },
   "outputs": [],
   "source": [
    "#2.\n",
    "def get_ff30_returns():\n",
    "    \"\"\"\n",
    "    Load and format the Ken French 30 Industry Portfolios Value Weighted Monthly Returns\n",
    "    \"\"\"\n",
    "    ff30 = pd.read_csv(\"/content/drive/MyDrive/AssetManagement2022/data/ind30_m_vw_rets.csv\", header=0, index_col=0)/100\n",
    "    ff30.index = pd.to_datetime(ff30.index, format=\"%Y%m\").to_period('M')\n",
    "    ff30.columns = ff30.columns.str.strip()\n",
    "    return ff30\n",
    "\n",
    "ff30 = get_ff30_returns()['1980':]"
   ]
  },
  {
   "cell_type": "code",
   "execution_count": 5,
   "id": "0Il0FfQIesPJ",
   "metadata": {
    "executionInfo": {
     "elapsed": 260,
     "status": "ok",
     "timestamp": 1652473530045,
     "user": {
      "displayName": "Francisco Perestrello",
      "userId": "09503119125878656278"
     },
     "user_tz": -60
    },
    "id": "0Il0FfQIesPJ"
   },
   "outputs": [],
   "source": [
    "#3.\n",
    "def get_rf():\n",
    "    \"\"\"\n",
    "    import the time series of the risk-free rate\n",
    "    \"\"\"\n",
    "    rf = pd.read_excel(\"/content/drive/MyDrive/AssetManagement2022/data/rf.xlsx\", header=0, index_col=0)\n",
    "    rf.index = pd.to_datetime(rf.index, format=\"%Y%m\").to_period('M')\n",
    "    rf.columns = rf.columns.str.strip()\n",
    "    return rf\n",
    "\n",
    "def cc_cov(r, **kwargs):\n",
    "    \"\"\"\n",
    "    Estimates a covariance matrix by using the Elton/Gruber Constant Correlation model\n",
    "    \"\"\"\n",
    "    rhos = r.corr()\n",
    "    n = rhos.shape[0]\n",
    "    # this is a symmetric matrix with diagonals all 1 - so the mean correlation is ...\n",
    "    rho_bar = (rhos.values.sum()-n)/(n*(n-1))\n",
    "    ccor = np.full_like(rhos, rho_bar)\n",
    "    np.fill_diagonal(ccor, 1.)\n",
    "    sd = r.std()\n",
    "    ccov = ccor * np.outer(sd, sd)\n",
    "    return pd.DataFrame(ccov, index=r.columns, columns=r.columns)\n",
    "\n",
    "def sample_cov(r, **kwargs):\n",
    "    \"\"\"\n",
    "    Returns the sample covariance of the supplied returns\n",
    "    \"\"\"\n",
    "    return r.cov()\n",
    "\n",
    "def shrinkage_cov(r, delta=0.5, **kwargs):\n",
    "    \"\"\"\n",
    "    Covariance estimator that shrinks between the Sample Covariance and the Constant Correlation Estimators\n",
    "    \"\"\"\n",
    "    prior = cc_cov(r, **kwargs)\n",
    "    sample = sample_cov(r, **kwargs)\n",
    "    return delta*prior + (1-delta)*sample\n",
    "\n",
    "def portfolio_return(weights, returns):\n",
    "    \"\"\"\n",
    "    Computes the return on a portfolio from constituent returns and weights\n",
    "    weights are a numpy array or Nx1 matrix and returns are a numpy array or Nx1 matrix\n",
    "    \"\"\"\n",
    "    return weights.T @ returns\n",
    "\n",
    "def portfolio_vol(weights, covmat):\n",
    "    \"\"\"\n",
    "    Computes the vol of a portfolio from a covariance matrix and constituent weights\n",
    "    weights are a numpy array or N x 1 maxtrix and covmat is an N x N matrix\n",
    "    \"\"\"\n",
    "    return (weights.T @ covmat @ weights)**0.5\n",
    "\n",
    "def msr(riskfree_rate, er, cov):\n",
    "    \"\"\"\n",
    "    Returns the weights of the portfolio that gives you the maximum sharpe ratio\n",
    "    given the riskfree rate and expected returns and a covariance matrix\n",
    "    \"\"\"\n",
    "    n = er.shape[0]\n",
    "    init_guess = np.repeat(1/n, n)\n",
    "    bounds = ((0.0, 1.0),) * n # an N-tuple of 2-tuples!\n",
    "    # construct the constraints\n",
    "    weights_sum_to_1 = {'type': 'eq',\n",
    "                        'fun': lambda weights: np.sum(weights) - 1\n",
    "    }\n",
    "    def neg_sharpe(weights, riskfree_rate, er, cov):\n",
    "        \"\"\"\n",
    "        Returns the negative of the sharpe ratio\n",
    "        of the given portfolio\n",
    "        \"\"\"\n",
    "        r = portfolio_return(weights, er)\n",
    "        vol = portfolio_vol(weights, cov)\n",
    "        return -(r - riskfree_rate)/vol\n",
    "    \n",
    "    weights = minimize(neg_sharpe, init_guess,\n",
    "                       args=(riskfree_rate, er, cov), method='SLSQP',\n",
    "                       options={'disp': False},\n",
    "                       constraints=(weights_sum_to_1,),\n",
    "                       bounds=bounds)\n",
    "    return weights.x\n",
    "\n",
    "def gmv(cov):\n",
    "    \"\"\"\n",
    "    Returns the weights of the Global Minimum Volatility portfolio\n",
    "    given a covariance matrix\n",
    "    \"\"\"\n",
    "    n = cov.shape[0]\n",
    "    return msr(0, np.repeat(1, n), cov)\n",
    "\n",
    "def weight_gmv_shrink(r, rf):\n",
    "    \"\"\"\n",
    "    Returns the weights of the portfolio based on the asset returns \"r\" as a DataFrame and the risk free rate \"rf\"\n",
    "    \"\"\"\n",
    "    n = len(r.columns)\n",
    "    cov = shrinkage_cov(r)\n",
    "    return pd.Series(gmv(cov), index=r.columns)\n",
    "\n",
    "#acho que é isto, mas kinda confusing"
   ]
  },
  {
   "cell_type": "code",
   "execution_count": 18,
   "id": "3j16Cm3pjPs2",
   "metadata": {
    "colab": {
     "base_uri": "https://localhost:8080/",
     "height": 493
    },
    "executionInfo": {
     "elapsed": 2582,
     "status": "ok",
     "timestamp": 1652474581180,
     "user": {
      "displayName": "Francisco Perestrello",
      "userId": "09503119125878656278"
     },
     "user_tz": -60
    },
    "id": "3j16Cm3pjPs2",
    "outputId": "7c05d4d9-81f8-4833-84cb-36d0aba03a8c"
   },
   "outputs": [
    {
     "data": {
      "image/png": "[encoded data removed]",
      "text/plain": [
       "<Figure size 1080x432 with 1 Axes>"
      ]
     },
     "metadata": {
      "needs_background": "light"
     },
     "output_type": "display_data"
    }
   ],
   "source": [
    "#4.\n",
    "def weight_ew(r,rf):\n",
    "    \"\"\"\n",
    "    Returns the weights of the EW portfolio based on the asset returns \"r\" as a DataFrame and the risk free rate \"rf\"\n",
    "    \"\"\"\n",
    "    n = len(r.columns)\n",
    "    return pd.Series(1/n, index=r.columns)\n",
    "\n",
    "wts = pd.DataFrame({\n",
    "    \"EW\": weight_ew(ff30, get_rf()),\n",
    "    \"R-GMV\": weight_gmv_shrink(ff30, get_rf()),\n",
    "})\n",
    "wts.T.plot.bar(stacked=True, figsize=(15,6), legend=True);"
   ]
  },
  {
   "cell_type": "code",
   "execution_count": 19,
   "id": "IMMMlgwBQFRp",
   "metadata": {
    "colab": {
     "base_uri": "https://localhost:8080/",
     "height": 990
    },
    "executionInfo": {
     "elapsed": 257,
     "status": "ok",
     "timestamp": 1652476109241,
     "user": {
      "displayName": "Francisco Perestrello",
      "userId": "09503119125878656278"
     },
     "user_tz": -60
    },
    "id": "IMMMlgwBQFRp",
    "outputId": "26533da2-0b15-4273-ca97-a1dbf2105219"
   },
   "outputs": [
    {
     "data": {
      "text/html": [
       "\n",
       "  <div id=\"df-12fefac6-ba7d-4555-a348-d06d040a90c8\">\n",
       "    <div class=\"colab-df-container\">\n",
       "      <div>\n",
       "<style scoped>\n",
       "    .dataframe tbody tr th:only-of-type {\n",
       "        vertical-align: middle;\n",
       "    }\n",
       "\n",
       "    .dataframe tbody tr th {\n",
       "        vertical-align: top;\n",
       "    }\n",
       "\n",
       "    .dataframe thead th {\n",
       "        text-align: right;\n",
       "    }\n",
       "</style>\n",
       "<table border=\"1\" class=\"dataframe\">\n",
       "  <thead>\n",
       "    <tr style=\"text-align: right;\">\n",
       "      <th></th>\n",
       "      <th>EW</th>\n",
       "      <th>R-GMV</th>\n",
       "    </tr>\n",
       "  </thead>\n",
       "  <tbody>\n",
       "    <tr>\n",
       "      <th>Food</th>\n",
       "      <td>0.033333</td>\n",
       "      <td>2.022872e-01</td>\n",
       "    </tr>\n",
       "    <tr>\n",
       "      <th>Beer</th>\n",
       "      <td>0.033333</td>\n",
       "      <td>5.425646e-04</td>\n",
       "    </tr>\n",
       "    <tr>\n",
       "      <th>Smoke</th>\n",
       "      <td>0.033333</td>\n",
       "      <td>0.000000e+00</td>\n",
       "    </tr>\n",
       "    <tr>\n",
       "      <th>Games</th>\n",
       "      <td>0.033333</td>\n",
       "      <td>0.000000e+00</td>\n",
       "    </tr>\n",
       "    <tr>\n",
       "      <th>Books</th>\n",
       "      <td>0.033333</td>\n",
       "      <td>5.740874e-14</td>\n",
       "    </tr>\n",
       "    <tr>\n",
       "      <th>Hshld</th>\n",
       "      <td>0.033333</td>\n",
       "      <td>1.885808e-01</td>\n",
       "    </tr>\n",
       "    <tr>\n",
       "      <th>Clths</th>\n",
       "      <td>0.033333</td>\n",
       "      <td>1.055428e-13</td>\n",
       "    </tr>\n",
       "    <tr>\n",
       "      <th>Hlth</th>\n",
       "      <td>0.033333</td>\n",
       "      <td>8.306223e-02</td>\n",
       "    </tr>\n",
       "    <tr>\n",
       "      <th>Chems</th>\n",
       "      <td>0.033333</td>\n",
       "      <td>3.342785e-13</td>\n",
       "    </tr>\n",
       "    <tr>\n",
       "      <th>Txtls</th>\n",
       "      <td>0.033333</td>\n",
       "      <td>0.000000e+00</td>\n",
       "    </tr>\n",
       "    <tr>\n",
       "      <th>Cnstr</th>\n",
       "      <td>0.033333</td>\n",
       "      <td>0.000000e+00</td>\n",
       "    </tr>\n",
       "    <tr>\n",
       "      <th>Steel</th>\n",
       "      <td>0.033333</td>\n",
       "      <td>0.000000e+00</td>\n",
       "    </tr>\n",
       "    <tr>\n",
       "      <th>FabPr</th>\n",
       "      <td>0.033333</td>\n",
       "      <td>0.000000e+00</td>\n",
       "    </tr>\n",
       "    <tr>\n",
       "      <th>ElcEq</th>\n",
       "      <td>0.033333</td>\n",
       "      <td>0.000000e+00</td>\n",
       "    </tr>\n",
       "    <tr>\n",
       "      <th>Autos</th>\n",
       "      <td>0.033333</td>\n",
       "      <td>0.000000e+00</td>\n",
       "    </tr>\n",
       "    <tr>\n",
       "      <th>Carry</th>\n",
       "      <td>0.033333</td>\n",
       "      <td>0.000000e+00</td>\n",
       "    </tr>\n",
       "    <tr>\n",
       "      <th>Mines</th>\n",
       "      <td>0.033333</td>\n",
       "      <td>0.000000e+00</td>\n",
       "    </tr>\n",
       "    <tr>\n",
       "      <th>Coal</th>\n",
       "      <td>0.033333</td>\n",
       "      <td>0.000000e+00</td>\n",
       "    </tr>\n",
       "    <tr>\n",
       "      <th>Oil</th>\n",
       "      <td>0.033333</td>\n",
       "      <td>7.695479e-13</td>\n",
       "    </tr>\n",
       "    <tr>\n",
       "      <th>Util</th>\n",
       "      <td>0.033333</td>\n",
       "      <td>4.531945e-01</td>\n",
       "    </tr>\n",
       "    <tr>\n",
       "      <th>Telcm</th>\n",
       "      <td>0.033333</td>\n",
       "      <td>6.630727e-02</td>\n",
       "    </tr>\n",
       "    <tr>\n",
       "      <th>Servs</th>\n",
       "      <td>0.033333</td>\n",
       "      <td>2.217493e-13</td>\n",
       "    </tr>\n",
       "    <tr>\n",
       "      <th>BusEq</th>\n",
       "      <td>0.033333</td>\n",
       "      <td>7.365247e-15</td>\n",
       "    </tr>\n",
       "    <tr>\n",
       "      <th>Paper</th>\n",
       "      <td>0.033333</td>\n",
       "      <td>1.092934e-12</td>\n",
       "    </tr>\n",
       "    <tr>\n",
       "      <th>Trans</th>\n",
       "      <td>0.033333</td>\n",
       "      <td>8.940472e-13</td>\n",
       "    </tr>\n",
       "    <tr>\n",
       "      <th>Whlsl</th>\n",
       "      <td>0.033333</td>\n",
       "      <td>9.829527e-13</td>\n",
       "    </tr>\n",
       "    <tr>\n",
       "      <th>Rtail</th>\n",
       "      <td>0.033333</td>\n",
       "      <td>1.170742e-12</td>\n",
       "    </tr>\n",
       "    <tr>\n",
       "      <th>Meals</th>\n",
       "      <td>0.033333</td>\n",
       "      <td>6.025463e-03</td>\n",
       "    </tr>\n",
       "    <tr>\n",
       "      <th>Fin</th>\n",
       "      <td>0.033333</td>\n",
       "      <td>3.415246e-13</td>\n",
       "    </tr>\n",
       "    <tr>\n",
       "      <th>Other</th>\n",
       "      <td>0.033333</td>\n",
       "      <td>1.718115e-13</td>\n",
       "    </tr>\n",
       "  </tbody>\n",
       "</table>\n",
       "</div>\n",
       "      <button class=\"colab-df-convert\" onclick=\"convertToInteractive('df-12fefac6-ba7d-4555-a348-d06d040a90c8')\"\n",
       "              title=\"Convert this dataframe to an interactive table.\"\n",
       "              style=\"display:none;\">\n",
       "        \n",
       "  <svg xmlns=\"http://www.w3.org/2000/svg\" height=\"24px\"viewBox=\"0 0 24 24\"\n",
       "       width=\"24px\">\n",
       "    <path d=\"M0 0h24v24H0V0z\" fill=\"none\"/>\n",
       "    <path d=\"M18.56 5.44l.94 2.06.94-2.06 2.06-.94-2.06-.94-.94-2.06-.94 2.06-2.06.94zm-11 1L8.5 8.5l.94-2.06 2.06-.94-2.06-.94L8.5 2.5l-.94 2.06-2.06.94zm10 10l.94 2.06.94-2.06 2.06-.94-2.06-.94-.94-2.06-.94 2.06-2.06.94z\"/><path d=\"M17.41 7.96l-1.37-1.37c-.4-.4-.92-.59-1.43-.59-.52 0-1.04.2-1.43.59L10.3 9.45l-7.72 7.72c-.78.78-.78 2.05 0 2.83L4 21.41c.39.39.9.59 1.41.59.51 0 1.02-.2 1.41-.59l7.78-7.78 2.81-2.81c.8-.78.8-2.07 0-2.86zM5.41 20L4 18.59l7.72-7.72 1.47 1.35L5.41 20z\"/>\n",
       "  </svg>\n",
       "      </button>\n",
       "      \n",
       "  <style>\n",
       "    .colab-df-container {\n",
       "      display:flex;\n",
       "      flex-wrap:wrap;\n",
       "      gap: 12px;\n",
       "    }\n",
       "\n",
       "    .colab-df-convert {\n",
       "      background-color: #E8F0FE;\n",
       "      border: none;\n",
       "      border-radius: 50%;\n",
       "      cursor: pointer;\n",
       "      display: none;\n",
       "      fill: #1967D2;\n",
       "      height: 32px;\n",
       "      padding: 0 0 0 0;\n",
       "      width: 32px;\n",
       "    }\n",
       "\n",
       "    .colab-df-convert:hover {\n",
       "      background-color: #E2EBFA;\n",
       "      box-shadow: 0px 1px 2px rgba(60, 64, 67, 0.3), 0px 1px 3px 1px rgba(60, 64, 67, 0.15);\n",
       "      fill: #174EA6;\n",
       "    }\n",
       "\n",
       "    [theme=dark] .colab-df-convert {\n",
       "      background-color: #3B4455;\n",
       "      fill: #D2E3FC;\n",
       "    }\n",
       "\n",
       "    [theme=dark] .colab-df-convert:hover {\n",
       "      background-color: #434B5C;\n",
       "      box-shadow: 0px 1px 3px 1px rgba(0, 0, 0, 0.15);\n",
       "      filter: drop-shadow(0px 1px 2px rgba(0, 0, 0, 0.3));\n",
       "      fill: #FFFFFF;\n",
       "    }\n",
       "  </style>\n",
       "\n",
       "      <script>\n",
       "        const buttonEl =\n",
       "          document.querySelector('#df-12fefac6-ba7d-4555-a348-d06d040a90c8 button.colab-df-convert');\n",
       "        buttonEl.style.display =\n",
       "          google.colab.kernel.accessAllowed ? 'block' : 'none';\n",
       "\n",
       "        async function convertToInteractive(key) {\n",
       "          const element = document.querySelector('#df-12fefac6-ba7d-4555-a348-d06d040a90c8');\n",
       "          const dataTable =\n",
       "            await google.colab.kernel.invokeFunction('convertToInteractive',\n",
       "                                                     [key], {});\n",
       "          if (!dataTable) return;\n",
       "\n",
       "          const docLinkHtml = 'Like what you see? Visit the ' +\n",
       "            '<a target=\"_blank\" href=https://colab.research.google.com/notebooks/data_table.ipynb>data table notebook</a>'\n",
       "            + ' to learn more about interactive tables.';\n",
       "          element.innerHTML = '';\n",
       "          dataTable['output_type'] = 'display_data';\n",
       "          await google.colab.output.renderOutput(dataTable, element);\n",
       "          const docLink = document.createElement('div');\n",
       "          docLink.innerHTML = docLinkHtml;\n",
       "          element.appendChild(docLink);\n",
       "        }\n",
       "      </script>\n",
       "    </div>\n",
       "  </div>\n",
       "  "
      ],
      "text/plain": [
       "             EW         R-GMV\n",
       "Food   0.033333  2.022872e-01\n",
       "Beer   0.033333  5.425646e-04\n",
       "Smoke  0.033333  0.000000e+00\n",
       "Games  0.033333  0.000000e+00\n",
       "Books  0.033333  5.740874e-14\n",
       "Hshld  0.033333  1.885808e-01\n",
       "Clths  0.033333  1.055428e-13\n",
       "Hlth   0.033333  8.306223e-02\n",
       "Chems  0.033333  3.342785e-13\n",
       "Txtls  0.033333  0.000000e+00\n",
       "Cnstr  0.033333  0.000000e+00\n",
       "Steel  0.033333  0.000000e+00\n",
       "FabPr  0.033333  0.000000e+00\n",
       "ElcEq  0.033333  0.000000e+00\n",
       "Autos  0.033333  0.000000e+00\n",
       "Carry  0.033333  0.000000e+00\n",
       "Mines  0.033333  0.000000e+00\n",
       "Coal   0.033333  0.000000e+00\n",
       "Oil    0.033333  7.695479e-13\n",
       "Util   0.033333  4.531945e-01\n",
       "Telcm  0.033333  6.630727e-02\n",
       "Servs  0.033333  2.217493e-13\n",
       "BusEq  0.033333  7.365247e-15\n",
       "Paper  0.033333  1.092934e-12\n",
       "Trans  0.033333  8.940472e-13\n",
       "Whlsl  0.033333  9.829527e-13\n",
       "Rtail  0.033333  1.170742e-12\n",
       "Meals  0.033333  6.025463e-03\n",
       "Fin    0.033333  3.415246e-13\n",
       "Other  0.033333  1.718115e-13"
      ]
     },
     "execution_count": 19,
     "metadata": {},
     "output_type": "execute_result"
    }
   ],
   "source": [
    "wts"
   ]
  },
  {
   "cell_type": "markdown",
   "id": "pZtMPtGIIRgU",
   "metadata": {
    "id": "pZtMPtGIIRgU"
   },
   "source": [
    "**Answer:** When comparing the R-GMV weight distribution to the EW, the differences are obvious. By construction, the EW plot shows us 30 bars of equal size. Through the Robust Global Minimum Variance Portfolio, however, we see that is composed of a 'top 5', which completely take over the rest. With Utilities bing the industry with the largest weight (45,3%), Food (20,2%), Consumer Goods (18,9%), Healthcare (8,3%), and Telecommunications (6,6%) make the rest of the top 5. The main goal of the R-GMV method is to overcome some limitations of the normal Minimum Variance Portfolio. The problem with this portfolio-building strategy is that it uses a Sample Covariance Matrix to estimate weights, which doens't do well when returns are not Gaussian. Financial data tends to be heavy-tailed and have many outliers. Thus, this alternative method (R-GMV) uses a covariance estimator that shrinks between the Constant Correlation Estimator and the Sample Covariance. This is known as the Elton/Gruber Constant Correlation Model."
   ]
  },
  {
   "cell_type": "code",
   "execution_count": 7,
   "id": "UwRRt7qXkXAV",
   "metadata": {
    "colab": {
     "base_uri": "https://localhost:8080/",
     "height": 1000
    },
    "executionInfo": {
     "elapsed": 197625,
     "status": "ok",
     "timestamp": 1652473732736,
     "user": {
      "displayName": "Francisco Perestrello",
      "userId": "09503119125878656278"
     },
     "user_tz": -60
    },
    "id": "UwRRt7qXkXAV",
    "outputId": "63eed9c4-e995-4c30-bd76-c861a813a587"
   },
   "outputs": [
    {
     "data": {
      "text/plain": [
       "<matplotlib.axes._subplots.AxesSubplot at 0x7f228dd23b90>"
      ]
     },
     "execution_count": 7,
     "metadata": {},
     "output_type": "execute_result"
    },
    {
     "data": {
      "image/png": "[encoded data removed]",
      "text/plain": [
       "<Figure size 1296x648 with 1 Axes>"
      ]
     },
     "metadata": {
      "needs_background": "light"
     },
     "output_type": "display_data"
    },
    {
     "data": {
      "image/png": "[encoded data removed]",
      "text/plain": [
       "<Figure size 1296x648 with 1 Axes>"
      ]
     },
     "metadata": {
      "needs_background": "light"
     },
     "output_type": "display_data"
    },
    {
     "data": {
      "image/png": "[encoded data removed]",
      "text/plain": [
       "<Figure size 1296x648 with 1 Axes>"
      ]
     },
     "metadata": {
      "needs_background": "light"
     },
     "output_type": "display_data"
    }
   ],
   "source": [
    "#5.\n",
    "def backtest_ws(r, rf, estimation_window=60, weighting=weight_gmv_shrink):\n",
    "    \"\"\"\n",
    "    Backtests a given weighting scheme, given some parameters:\n",
    "    r : asset returns to use to build the portfolio\n",
    "    estimation_window: the window to use to estimate parameters\n",
    "    weighting: the weighting scheme to use, must be a function that takes \"r\", and a variable number of keyword-value arguments\n",
    "    \"\"\"\n",
    "    n_periods = r.shape[0]\n",
    "    windows = [(start, start+estimation_window) for start in range(n_periods-estimation_window+1)]\n",
    "    # windows is a list of tuples which gives us the (integer) location of the start and stop (non inclusive)\n",
    "    # for each estimation window\n",
    "    weights = [weighting(r.iloc[win[0]:win[1]], rf.iloc[win[0]:win[1]]) for win in windows]\n",
    "    # List -> DataFrame\n",
    "    weights = pd.DataFrame(weights, index=r.iloc[estimation_window-1:].index, columns=r.columns)\n",
    "    # return weights\n",
    "    returns = (weights * r).sum(axis=\"columns\",  min_count=1) # mincount is to generate NAs if all inputs are NAs\n",
    "    return returns\n",
    "\n",
    "ew_ret_12 = backtest_ws(ff30, get_rf(), estimation_window=12, weighting=weight_ew)\n",
    "r_gmv_ret_12 = backtest_ws(ff30, get_rf(), estimation_window=12, weighting=weight_gmv_shrink)\n",
    "btr_12 = pd.DataFrame({\"EW\": ew_ret_12, \"R GMV\": r_gmv_ret_12})\n",
    "(1+btr_12).cumprod().plot(figsize=(18,9), title = \"Backtest 12 Month Period\")\n",
    "\n",
    "ew_ret_60 = backtest_ws(ff30, get_rf(), estimation_window=60, weighting=weight_ew)\n",
    "r_gmv_ret_60 = backtest_ws(ff30, get_rf(), estimation_window=60, weighting=weight_gmv_shrink)\n",
    "btr_60 = pd.DataFrame({\"EW\": ew_ret_60, \"R GMV\": r_gmv_ret_60})\n",
    "(1+btr_60).cumprod().plot(figsize=(18,9), title = \"Backtest 60 Month Period\")\n",
    "\n",
    "ew_ret_120 = backtest_ws(ff30, get_rf(), estimation_window=120, weighting=weight_ew)\n",
    "r_gmv_ret_120 = backtest_ws(ff30, get_rf(), estimation_window=120, weighting=weight_gmv_shrink)\n",
    "btr_120 = pd.DataFrame({\"EW\": ew_ret_120, \"R GMV\": r_gmv_ret_120})\n",
    "(1+btr_120).cumprod().plot(figsize=(18,9), title = \"Backtest 120 Month Period\")"
   ]
  },
  {
   "cell_type": "markdown",
   "id": "PD8wfiS5KR-f",
   "metadata": {
    "id": "PD8wfiS5KR-f"
   },
   "source": [
    "**Answer:** By taking a look at the plots produced and comparing them with those of Lab2 session, we can see that the performance of the GMV improved by using an alternative method to calculate the covariance matrix (R-GMV). We can also see that as the estimation window increases, the investment starts later - for 12 months the investment starts in 1981, while for the largest estimation window the investment only starts waround 1990. It can also be seen that the R-GMV strategy consistently outperforms the EW strategy for the smallest estimation window, but loses its outperformance when the window is incresed, even underperforming the EW when considering an estimation window of 120 months."
   ]
  },
  {
   "cell_type": "markdown",
   "id": "d7cfd319",
   "metadata": {
    "id": "d7cfd319"
   },
   "source": [
    "## Question II."
   ]
  },
  {
   "cell_type": "code",
   "execution_count": 8,
   "id": "L_561Ax7yjOx",
   "metadata": {
    "executionInfo": {
     "elapsed": 553,
     "status": "ok",
     "timestamp": 1652473740218,
     "user": {
      "displayName": "Francisco Perestrello",
      "userId": "09503119125878656278"
     },
     "user_tz": -60
    },
    "id": "L_561Ax7yjOx"
   },
   "outputs": [],
   "source": [
    "#1.\n",
    "brka_d = pd.read_csv(\"/content/drive/MyDrive/AssetManagement2022/data/brka_d_ret.csv\", parse_dates=True, index_col=0)\n",
    "\n",
    "def compound(r):\n",
    "    \"\"\"\n",
    "    returns the result of compounding the set of returns in r\n",
    "    \"\"\"\n",
    "    return np.expm1(np.log1p(r).sum())\n",
    "\n",
    "brka_m = brka_d.resample('M').apply(compound).to_period('M')"
   ]
  },
  {
   "cell_type": "code",
   "execution_count": 9,
   "id": "xo4oTUHBza7R",
   "metadata": {
    "executionInfo": {
     "elapsed": 370,
     "status": "ok",
     "timestamp": 1652473741414,
     "user": {
      "displayName": "Francisco Perestrello",
      "userId": "09503119125878656278"
     },
     "user_tz": -60
    },
    "id": "xo4oTUHBza7R"
   },
   "outputs": [],
   "source": [
    "#2.\n",
    "def get_fff_returns():\n",
    "    \"\"\"\n",
    "    Load the Fama-French Research Factor Monthly Dataset\n",
    "    \"\"\"\n",
    "    rets = pd.read_csv(\"/content/drive/MyDrive/AssetManagement2022/data/F-F_Research_Data_Factors_m.csv\",\n",
    "                       header=0, index_col=0, na_values=-99.99)/100\n",
    "    rets.index = pd.to_datetime(rets.index, format=\"%Y%m\").to_period('M')\n",
    "    return rets\n",
    "\n",
    "fff = get_fff_returns()"
   ]
  },
  {
   "cell_type": "code",
   "execution_count": 37,
   "id": "YXJGnK5Y0SKe",
   "metadata": {
    "executionInfo": {
     "elapsed": 228,
     "status": "ok",
     "timestamp": 1652476553053,
     "user": {
      "displayName": "Francisco Perestrello",
      "userId": "09503119125878656278"
     },
     "user_tz": -60
    },
    "id": "YXJGnK5Y0SKe"
   },
   "outputs": [],
   "source": [
    "#3.\n",
    "import statsmodels.api as sm\n",
    "\n",
    "# Case 1 -> Time Period 1990-2002\n",
    "brka_excess_1990_2002 = brka_m[\"1990\":\"2002\"] - fff.loc[\"1990\":\"2002\", ['RF']].values\n",
    "mkt_excess_1990_2002 = fff.loc[\"1990\":\"2002\",['Mkt-RF']]\n",
    "exp_var_1990_2002 = mkt_excess_1990_2002.copy()\n",
    "exp_var_1990_2002[\"Constant\"] = 1\n",
    "lm_1990_2002 = sm.OLS(brka_excess_1990_2002, exp_var_1990_2002).fit()\n",
    "replicating_port_capm_1990_2002 = brka_m['1990':'2002'].values - lm_1990_2002.params[0] * (mkt_excess_1990_2002.values + fff.loc[\"1990\":\"2002\", ['RF']].values) - (1 - lm_1990_2002.params[0]) * fff.loc[\"1990\":\"2002\", ['RF']].values\n",
    "alpha_1990_2002 = replicating_port_capm_1990_2002.mean()\n",
    "alpha_1990_2002_ann = (1+alpha_1990_2002)**12 - 1\n",
    "te_1990_2002 = replicating_port_capm_1990_2002.std()\n",
    "te_1990_2002_ann = te_1990_2002*np.sqrt(12)\n",
    "IR_1990_2002 = alpha_1990_2002/te_1990_2002\n",
    "IR_1990_2002_ann = alpha_1990_2002_ann/te_1990_2002_ann\n",
    "\n",
    "# Case 2 -> Time Period 2003-2018\n",
    "brka_excess_2003_2018 = brka_m[\"2003\":\"2018\"] - fff.loc[\"2003\":\"2018\", ['RF']].values\n",
    "mkt_excess_2003_2018 = fff.loc[\"2003\":\"2018\",['Mkt-RF']]\n",
    "exp_var_2003_2018 = mkt_excess_2003_2018.copy()\n",
    "exp_var_2003_2018[\"Constant\"] = 1\n",
    "lm_2003_2018 = sm.OLS(brka_excess_2003_2018, exp_var_2003_2018).fit()\n",
    "replicating_port_capm_2003_2018 = brka_m['2003':'2018'].values - lm_2003_2018.params[0] * (mkt_excess_2003_2018.values + fff.loc[\"2003\":\"2018\", ['RF']].values) - (1 - lm_2003_2018.params[0]) * fff.loc[\"2003\":\"2018\", ['RF']].values\n",
    "alpha_2003_2018 = replicating_port_capm_2003_2018.mean()\n",
    "alpha_2003_2018_ann = (1+alpha_2003_2018)**12 - 1\n",
    "te_2003_2018 = replicating_port_capm_2003_2018.std()\n",
    "te_2003_2018_ann = te_2003_2018*np.sqrt(12)\n",
    "IR_2003_2018 = alpha_2003_2018/te_2003_2018\n",
    "IR_2003_2018_ann = alpha_2003_2018_ann/te_2003_2018_ann\n",
    "\n",
    "# Case 3 -> Full Sample\n",
    "brka_excess_full_sample = brka_m[\"1990\":\"2018\"] - fff.loc[\"1990\":\"2018\", ['RF']].values\n",
    "mkt_excess_full_sample = fff.loc[\"1990\":\"2018\",['Mkt-RF']]\n",
    "exp_var_full_sample = mkt_excess_full_sample.copy()\n",
    "exp_var_full_sample[\"Constant\"] = 1\n",
    "lm_full_sample = sm.OLS(brka_excess_full_sample, exp_var_full_sample).fit()\n",
    "replicating_port_capm_full_sample = brka_m['1990':'2018'].values - lm_full_sample.params[0] * (mkt_excess_full_sample.values + fff.loc[\"1990\":\"2018\", ['RF']].values) - (1 - lm_full_sample.params[0]) * fff.loc[\"1990\":\"2018\", ['RF']].values\n",
    "alpha_full_sample = replicating_port_capm_full_sample.mean()\n",
    "alpha_full_sample_ann = (1+alpha_full_sample)**12 - 1\n",
    "te_full_sample = replicating_port_capm_full_sample.std()\n",
    "te_full_sample_ann = te_full_sample*np.sqrt(12)\n",
    "IR_full_sample = alpha_full_sample/te_full_sample\n",
    "IR_full_sample_ann = alpha_full_sample_ann/te_full_sample_ann"
   ]
  },
  {
   "cell_type": "code",
   "execution_count": 38,
   "id": "cpc9GzgzQQ_n",
   "metadata": {
    "colab": {
     "base_uri": "https://localhost:8080/"
    },
    "executionInfo": {
     "elapsed": 214,
     "status": "ok",
     "timestamp": 1652476559265,
     "user": {
      "displayName": "Francisco Perestrello",
      "userId": "09503119125878656278"
     },
     "user_tz": -60
    },
    "id": "cpc9GzgzQQ_n",
    "outputId": "f156fb9b-8992-4cdf-e232-4a4e0fcc049e"
   },
   "outputs": [
    {
     "data": {
      "text/plain": [
       "(0.12025281623486417,\n",
       " 0.2223990019435926,\n",
       " 0.5407075354832935,\n",
       " Mkt-RF      0.573378\n",
       " Constant    0.009508\n",
       " dtype: float64)"
      ]
     },
     "execution_count": 38,
     "metadata": {},
     "output_type": "execute_result"
    }
   ],
   "source": [
    "alpha_1990_2002_ann, te_1990_2002_ann, IR_1990_2002_ann, lm_1990_2002.params"
   ]
  },
  {
   "cell_type": "code",
   "execution_count": 39,
   "id": "j54zmNKmQsnu",
   "metadata": {
    "colab": {
     "base_uri": "https://localhost:8080/"
    },
    "executionInfo": {
     "elapsed": 331,
     "status": "ok",
     "timestamp": 1652476569558,
     "user": {
      "displayName": "Francisco Perestrello",
      "userId": "09503119125878656278"
     },
     "user_tz": -60
    },
    "id": "j54zmNKmQsnu",
    "outputId": "787f2a8f-89ee-4935-9176-d4bf3508a77b"
   },
   "outputs": [
    {
     "data": {
      "text/plain": [
       "(0.03939240946299982,\n",
       " 0.13525768346225195,\n",
       " 0.2912397170693342,\n",
       " Mkt-RF      0.587269\n",
       " Constant    0.003225\n",
       " dtype: float64)"
      ]
     },
     "execution_count": 39,
     "metadata": {},
     "output_type": "execute_result"
    }
   ],
   "source": [
    "alpha_2003_2018_ann, te_2003_2018_ann, IR_2003_2018_ann, lm_2003_2018.params"
   ]
  },
  {
   "cell_type": "code",
   "execution_count": 40,
   "id": "OQuVDQFHQssF",
   "metadata": {
    "colab": {
     "base_uri": "https://localhost:8080/"
    },
    "executionInfo": {
     "elapsed": 5,
     "status": "ok",
     "timestamp": 1652476578506,
     "user": {
      "displayName": "Francisco Perestrello",
      "userId": "09503119125878656278"
     },
     "user_tz": -60
    },
    "id": "OQuVDQFHQssF",
    "outputId": "7e4b960b-6a48-47dc-ae6d-948af6e9f71e"
   },
   "outputs": [
    {
     "data": {
      "text/plain": [
       "(0.07531427984426986,\n",
       " 0.179946839759673,\n",
       " 0.41853627407325095,\n",
       " Mkt-RF      0.577946\n",
       " Constant    0.006069\n",
       " dtype: float64)"
      ]
     },
     "execution_count": 40,
     "metadata": {},
     "output_type": "execute_result"
    }
   ],
   "source": [
    "alpha_full_sample_ann, te_full_sample_ann, IR_full_sample_ann, lm_full_sample.params"
   ]
  },
  {
   "cell_type": "markdown",
   "id": "y1kRuO00K9hK",
   "metadata": {
    "id": "y1kRuO00K9hK"
   },
   "source": [
    "**Answer:** By looking at the results, we see that in the period of 1990-2002, the annualized alpha was 12,03%, the annualized tracking error was 22,24%, and the annualized IR was 0,54. Comparing these to the period of 2003-2018, we see that they were 3,94%, 13,53%, and 0,29, respectively. This lets us conclude that the portfolio performed much better between 1990 and 2002 than in 2003-2018, as both the alpha and the IR are greatly superior.\n",
    "As for the whole sample, we see that the annualized alpha return was 7,53%, which means that, on average, the portfolio is outperforming a portfolio composed by 57,8% invested in the market and 42,2% invested in T-Bills by 7,53%. Nonetheless, this extra return comes with a greater tracking error. The annualized tracking error of the portfolio in the whole sample (17,99%) is signifincantly higher than the benchmark of 6% which means the tracking error isn't considered inapproriate for performance analysis - a high tracking error means the portfolio can't conistently track the index. This could imply that Berkshire Hathaway may have taken additional risk factors to earn that extra alpha return. Finally, we see that the annualized information ratio is 0,42 for this period, which altough relatively low, is still acceptable."
   ]
  },
  {
   "cell_type": "code",
   "execution_count": 41,
   "id": "8Kjgxm5_69-F",
   "metadata": {
    "executionInfo": {
     "elapsed": 220,
     "status": "ok",
     "timestamp": 1652476582562,
     "user": {
      "displayName": "Francisco Perestrello",
      "userId": "09503119125878656278"
     },
     "user_tz": -60
    },
    "id": "8Kjgxm5_69-F"
   },
   "outputs": [],
   "source": [
    "#4.\n",
    "# Case 1 -> Time Period 1990-2002\n",
    "exp_var_1990_2002[\"Value\"] = fff.loc[\"1990\":\"2002\",['HML']]\n",
    "exp_var_1990_2002[\"Size\"] = fff.loc[\"1990\":\"2002\",['SMB']]\n",
    "lm_1990_2002 = sm.OLS(brka_excess_1990_2002, exp_var_1990_2002).fit()\n",
    "replicating_port_ff3_1990_2002 = brka_m['1990':'2002'].values - lm_1990_2002.params[0] * (mkt_excess_1990_2002.values + fff.loc[\"1990\":\"2002\", ['RF']].values) - (1 - lm_1990_2002.params[0]) * fff.loc[\"1990\":\"2002\", ['RF']].values - lm_1990_2002.params[2] * fff.loc[\"1990\":\"2002\", ['HML']].values - lm_1990_2002.params[3] * fff.loc[\"1990\":\"2002\", ['SMB']].values\n",
    "alpha_1990_2002 = replicating_port_ff3_1990_2002.mean()\n",
    "alpha_1990_2002_ann = (1+alpha_1990_2002)**12 - 1\n",
    "te_1990_2002 = replicating_port_ff3_1990_2002.std()\n",
    "te_1990_2002_ann = te_1990_2002*np.sqrt(12)\n",
    "IR_1990_2002 = alpha_1990_2002/te_1990_2002\n",
    "IR_1990_2002_ann = alpha_1990_2002_ann/te_1990_2002_ann\n",
    "\n",
    "# Case 2 -> Time Period 2003-2018\n",
    "exp_var_2003_2018[\"Value\"] = fff.loc[\"2003\":\"2018\",['HML']]\n",
    "exp_var_2003_2018[\"Size\"] = fff.loc[\"2003\":\"2018\",['SMB']]\n",
    "lm_2003_2018 = sm.OLS(brka_excess_2003_2018, exp_var_2003_2018).fit()\n",
    "replicating_port_ff3_2003_2018 = brka_m['2003':'2018'].values - lm_2003_2018.params[0] * (mkt_excess_2003_2018.values + fff.loc[\"2003\":\"2018\", ['RF']].values) - (1 - lm_2003_2018.params[0]) * fff.loc[\"2003\":\"2018\", ['RF']].values - lm_2003_2018.params[2] * fff.loc[\"2003\":\"2018\", ['HML']].values - lm_2003_2018.params[3] * fff.loc[\"2003\":\"2018\", ['SMB']].values\n",
    "alpha_2003_2018 = replicating_port_ff3_2003_2018.mean()\n",
    "alpha_2003_2018_ann = (1+alpha_2003_2018)**12 - 1\n",
    "te_2003_2018 = replicating_port_ff3_2003_2018.std()\n",
    "te_2003_2018_ann = te_2003_2018*np.sqrt(12)\n",
    "IR_2003_2018 = alpha_2003_2018/te_2003_2018\n",
    "IR_2003_2018_ann = alpha_2003_2018_ann/te_2003_2018_ann\n",
    "\n",
    "# Case 3 -> Full Sample\n",
    "exp_var_full_sample[\"Value\"] = fff.loc[\"1990\":\"2018\",['HML']]\n",
    "exp_var_full_sample[\"Size\"] = fff.loc[\"1990\":\"2018\",['SMB']]\n",
    "lm_full_sample = sm.OLS(brka_excess_full_sample, exp_var_full_sample).fit()\n",
    "replicating_port_ff3_full_sample = brka_m['1990':'2018'].values - lm_full_sample.params[0] * (mkt_excess_full_sample.values + fff.loc[\"1990\":\"2018\", ['RF']].values) - (1 - lm_full_sample.params[0]) * fff.loc[\"1990\":\"2018\", ['RF']].values - lm_full_sample.params[2] * fff.loc[\"1990\":\"2018\", ['HML']].values - lm_full_sample.params[3] * fff.loc[\"1990\":\"2018\", ['SMB']].values\n",
    "alpha_full_sample = replicating_port_ff3_full_sample.mean()\n",
    "alpha_full_sample_ann = (1+alpha_full_sample)**12 - 1\n",
    "te_full_sample = replicating_port_ff3_full_sample.std()\n",
    "te_full_sample_ann = te_full_sample*np.sqrt(12)\n",
    "IR_full_sample = alpha_full_sample/te_full_sample\n",
    "IR_full_sample_ann = alpha_full_sample_ann/te_full_sample_ann\n"
   ]
  },
  {
   "cell_type": "code",
   "execution_count": 42,
   "id": "itYYB3xqRR6f",
   "metadata": {
    "colab": {
     "base_uri": "https://localhost:8080/"
    },
    "executionInfo": {
     "elapsed": 7,
     "status": "ok",
     "timestamp": 1652476583364,
     "user": {
      "displayName": "Francisco Perestrello",
      "userId": "09503119125878656278"
     },
     "user_tz": -60
    },
    "id": "itYYB3xqRR6f",
    "outputId": "c5514f8a-e6b5-458b-92e7-12382144153e"
   },
   "outputs": [
    {
     "data": {
      "text/plain": [
       "(0.08252279788836825,\n",
       " 0.19668712314789438,\n",
       " 0.41956380553859196,\n",
       " Mkt-RF      0.830573\n",
       " Constant    0.006630\n",
       " Value       0.512478\n",
       " Size       -0.494623\n",
       " dtype: float64)"
      ]
     },
     "execution_count": 42,
     "metadata": {},
     "output_type": "execute_result"
    }
   ],
   "source": [
    "alpha_1990_2002_ann, te_1990_2002_ann, IR_1990_2002_ann, lm_1990_2002.params"
   ]
  },
  {
   "cell_type": "code",
   "execution_count": 43,
   "id": "Qor2JcyVRSNg",
   "metadata": {
    "colab": {
     "base_uri": "https://localhost:8080/"
    },
    "executionInfo": {
     "elapsed": 4,
     "status": "ok",
     "timestamp": 1652476583734,
     "user": {
      "displayName": "Francisco Perestrello",
      "userId": "09503119125878656278"
     },
     "user_tz": -60
    },
    "id": "Qor2JcyVRSNg",
    "outputId": "17a36c09-d8d3-43e4-af97-4e4e69787b20"
   },
   "outputs": [
    {
     "data": {
      "text/plain": [
       "(0.045124121298642184,\n",
       " 0.12997004098866557,\n",
       " 0.3471886363610316,\n",
       " Mkt-RF      0.602714\n",
       " Constant    0.003685\n",
       " Value       0.357713\n",
       " Size       -0.321818\n",
       " dtype: float64)"
      ]
     },
     "execution_count": 43,
     "metadata": {},
     "output_type": "execute_result"
    }
   ],
   "source": [
    "alpha_2003_2018_ann, te_2003_2018_ann, IR_2003_2018_ann, lm_2003_2018.params"
   ]
  },
  {
   "cell_type": "code",
   "execution_count": 44,
   "id": "54ptuiUwRROj",
   "metadata": {
    "colab": {
     "base_uri": "https://localhost:8080/"
    },
    "executionInfo": {
     "elapsed": 9,
     "status": "ok",
     "timestamp": 1652476584560,
     "user": {
      "displayName": "Francisco Perestrello",
      "userId": "09503119125878656278"
     },
     "user_tz": -60
    },
    "id": "54ptuiUwRROj",
    "outputId": "914b0081-31e3-4b5d-95b2-10ece016ae73"
   },
   "outputs": [
    {
     "data": {
      "text/plain": [
       "(0.06377640944248109,\n",
       " 0.16433663469319607,\n",
       " 0.38808394465145746,\n",
       " Mkt-RF      0.709605\n",
       " Constant    0.005165\n",
       " Value       0.405283\n",
       " Size       -0.482937\n",
       " dtype: float64)"
      ]
     },
     "execution_count": 44,
     "metadata": {},
     "output_type": "execute_result"
    }
   ],
   "source": [
    "alpha_full_sample_ann, te_full_sample_ann, IR_full_sample_ann, lm_full_sample.params"
   ]
  },
  {
   "cell_type": "markdown",
   "id": "-RuqBP_HMqZ5",
   "metadata": {
    "id": "-RuqBP_HMqZ5"
   },
   "source": [
    "**Answer:** By adding the two extra factors to our benchmark, we expect that the tracking error is reduced. In fact, the annualized tracking error for the full period decreased to 16,43%, which is still quite large, although better. As for the annualized alpha, it is now 6,38%. Finally, the IR dropped to 0,39. This drop, albeit low, could signal that hte fund is not as good at beating the market as initially thought. This happens as the two new factors come to help explain returns a bit better. Using the CAPM, the replicating portfolios for the three periods had somewhat consistent ratios for the market and the T-Bills. However, after adding two new factors and jumping into the FF3 framework, we see that the ratios now change significantly throughout the different periods. For the full period, we find that for each dollar, the fund invests 71 cents in the market, 29 cents in T-Bills, 41 cents in Value stocks, negative 41 cents in Growth stocks, 48 cents in large cap stocks and another negative 48 cents in small cap stocks. This leads us to conclude that the fund was biased towards large and value stocks through the full period, which is consistent with the fact that Warren Buffet is a value investor.\n",
    "\n",
    "For the 1990-2002 period, the fund had an annual alpha return of 8,25%, an annual tracking error of 19,67%, and an annual information ratio of 0,42. During this period, for each dollar invested, the fund would allocate 83 cents to the market, 17 cents to the T-Bills, 51 cents to value stocks, negative 51 cents in growth stocks, 49 cents in large cap stocks, and, again, another negative 49 cents in small cap stocks.\n",
    "\n",
    "The analysis is similar for the 2003-2018 period. We found an annual alpha return of 4,51%, an annual tracking error of 12,99%, and an annual information ratio of 0,35. For each dollar invested, the fund would allocate 60 cents to the market, 40 cents to T-Bills, 35 cents to value stocks, negative 35 cents in growth stocks, 32 cents in large cap stocks, and a final negative 32 cents in small cap stocks."
   ]
  },
  {
   "cell_type": "markdown",
   "id": "8a69bbe3",
   "metadata": {
    "id": "8a69bbe3"
   },
   "source": [
    "## Question III."
   ]
  },
  {
   "cell_type": "code",
   "execution_count": null,
   "id": "39e9832f",
   "metadata": {
    "id": "39e9832f"
   },
   "outputs": [],
   "source": [
    "hml = fff.loc[\"1990\":\"2018\", ['HML']]\n",
    "exp_var = hml.copy()\n",
    "exp_var['SMB'] = fff.loc[\"1990\":\"2018\",['SMB']]\n",
    "\n",
    "def style_analysis(dependent_variable, explanatory_variables):\n",
    "    \"\"\"\n",
    "    Returns the optimal weights that minimizes the Tracking error between\n",
    "    a portfolio of the explanatory variables and the dependent variable\n",
    "    \"\"\"\n",
    "    n = explanatory_variables.shape[1]\n",
    "    init_guess = np.repeat(1/n, n)\n",
    "    bounds = ((0.0, 1.0),) * n # an N-tuple of 2-tuples!\n",
    "    # construct the constraints\n",
    "    weights_sum_to_1 = {'type': 'eq',\n",
    "                        'fun': lambda weights: np.sum(weights) - 1\n",
    "    }\n",
    "    solution = minimize(tracking_error, init_guess,\n",
    "                       args=(dependent_variable, explanatory_variables,), method='SLSQP',\n",
    "                       options={'disp': False},\n",
    "                       constraints=(weights_sum_to_1,),\n",
    "                       bounds=bounds)\n",
    "    weights = pd.Series(solution.x, index=explanatory_variables.columns)\n",
    "    return weights\n",
    "\n",
    "def tracking_error(weights, r_a, r_b):\n",
    "    \"\"\"\n",
    "    Returns the Tracking Error between the two return series\n",
    "    \"\"\"\n",
    "    replicating_port = r_a['1990':'2018']['BRKA'].values - weights[0] * r_b[\"1990\":\"2018\"]['HML'].values - weights[1] * r_b[\"1990\":\"2018\"]['SMB'].values\n",
    "    te = replicating_port.std() \n",
    "    return te\n"
   ]
  },
  {
   "cell_type": "markdown",
   "id": "mXyD_FVqO2D5",
   "metadata": {
    "id": "mXyD_FVqO2D5"
   },
   "source": [
    "**Answer:** We previously saw that the Berkshire Hathaway fund was biased towards value and large cap stocks. However, we weren't certain about which effect was stronger. A style analysis helps us conclude which of these was in fact stronger. Looking at the results, we see that the value factor is definitely the main driver of the returns of the fund, which is indeed consistent with what we had previously stated about Warren Buffet - that he is a vlaue investor. The connection with large cap firms may be thanks to Warren Buffets prefference for companies that he believes can dominate in the long-term but, most importantly, mature companies that at compete in both the present and in the future. This means he only invested in companies he believed were good businesses, instead of only looking at good prices."
   ]
  }
 ],
 "metadata": {
  "colab": {
   "collapsed_sections": [],
   "name": "39001 Asset Management Assignment.ipynb",
   "provenance": []
  },
  "kernelspec": {
   "display_name": "Python 3 (ipykernel)",
   "language": "python",
   "name": "python3"
  },
  "language_info": {
   "codemirror_mode": {
    "name": "ipython",
    "version": 3
   },
   "file_extension": ".py",
   "mimetype": "text/x-python",
   "name": "python",
   "nbconvert_exporter": "python",
   "pygments_lexer": "ipython3",
   "version": "3.9.7"
  }
 },
 "nbformat": 4,
 "nbformat_minor": 5
}
